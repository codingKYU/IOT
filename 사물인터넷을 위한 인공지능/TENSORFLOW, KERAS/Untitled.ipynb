{
 "cells": [
  {
   "cell_type": "markdown",
   "metadata": {},
   "source": [
    "### TENSORFLOW"
   ]
  },
  {
   "cell_type": "code",
   "execution_count": 19,
   "metadata": {},
   "outputs": [],
   "source": [
    "#위 두 줄의 코드는 tensorflow 버전 1과 2의 호환 때문에 추가하였다. 학습 문서 상에 버전 1을 기준으로 적혀있기 때문에 학습은 버전 1으로 진행하겠다.\n",
    "import tensorflow.compat.v1 as tf\n",
    "tf.compat.v1.disable_eager_execution() \n",
    "\n",
    "import numpy as np"
   ]
  },
  {
   "cell_type": "code",
   "execution_count": 15,
   "metadata": {},
   "outputs": [],
   "source": [
    "mat1 = np.random.rand(3,5)  #3,5 난수 행렬 생성\n",
    "mat2 = np.random.rand(5,2)  #5,2 난수 행렬 생성"
   ]
  },
  {
   "cell_type": "code",
   "execution_count": 16,
   "metadata": {},
   "outputs": [],
   "source": [
    "#두 행렬에 대한 플레이스홀더 선언, 플레이스홀더는 약간 C언어에서 미리 변수를 지정해주는 것과 비슷한 듯하다.\n",
    "A = tf.placeholder(tf.float32,None,name = 'A') #실수형, 임의의 크기, 이름 A\n",
    "B = tf.placeholder(tf.float32,None,name = 'B')"
   ]
  },
  {
   "cell_type": "code",
   "execution_count": 17,
   "metadata": {},
   "outputs": [],
   "source": [
    "C = tf.matmul(A,B)"
   ]
  },
  {
   "cell_type": "code",
   "execution_count": 18,
   "metadata": {},
   "outputs": [
    {
     "name": "stdout",
     "output_type": "stream",
     "text": [
      "[[1.0831295  0.30149812]\n",
      " [1.160955   0.57441086]\n",
      " [1.2639073  0.2765142 ]]\n"
     ]
    }
   ],
   "source": [
    "#tensorflow는 위의 변수 정의 + placeholder로 계산식 정의와 변수 정의를 끝내놓고 session run을 통해 마지막에 이 모든 것들을 실행시킨다고 생각하면 된다.\n",
    "with tf.Session() as sess:\n",
    "    result = sess.run(C,feed_dict = {A : mat1, B : mat2})\n",
    "    print(result)"
   ]
  },
  {
   "cell_type": "markdown",
   "metadata": {},
   "source": [
    "### KERAS"
   ]
  },
  {
   "cell_type": "code",
   "execution_count": 20,
   "metadata": {},
   "outputs": [],
   "source": [
    "import keras.backend as K\n",
    "import numpy as np"
   ]
  },
  {
   "cell_type": "code",
   "execution_count": 21,
   "metadata": {},
   "outputs": [],
   "source": [
    "A = np.random.rand(20,500)\n",
    "B = np.random.rand(500,3000)"
   ]
  },
  {
   "cell_type": "code",
   "execution_count": 23,
   "metadata": {},
   "outputs": [],
   "source": [
    "x = K.variable(value = A)\n",
    "y = K.variable(value = B)\n",
    "z = K.dot(x,y)"
   ]
  },
  {
   "cell_type": "code",
   "execution_count": 24,
   "metadata": {},
   "outputs": [
    {
     "name": "stdout",
     "output_type": "stream",
     "text": [
      "[[121.54825  116.00575  118.26329  ... 115.81656  115.15658  122.32623 ]\n",
      " [133.18912  123.67786  126.82921  ... 125.64665  127.79409  126.48077 ]\n",
      " [132.7743   123.4539   125.80041  ... 126.23419  123.79994  127.57578 ]\n",
      " ...\n",
      " [122.52078  116.921745 119.85614  ... 115.37223  115.0468   120.80976 ]\n",
      " [133.63524  119.3262   122.48614  ... 121.72342  122.89754  128.05826 ]\n",
      " [129.71124  120.31882  124.189735 ... 126.80327  125.14076  125.83065 ]]\n"
     ]
    }
   ],
   "source": [
    "print(K.eval(z))"
   ]
  },
  {
   "cell_type": "code",
   "execution_count": null,
   "metadata": {},
   "outputs": [],
   "source": []
  }
 ],
 "metadata": {
  "kernelspec": {
   "display_name": "Python 3",
   "language": "python",
   "name": "python3"
  },
  "language_info": {
   "codemirror_mode": {
    "name": "ipython",
    "version": 3
   },
   "file_extension": ".py",
   "mimetype": "text/x-python",
   "name": "python",
   "nbconvert_exporter": "python",
   "pygments_lexer": "ipython3",
   "version": "3.7.6"
  }
 },
 "nbformat": 4,
 "nbformat_minor": 4
}
